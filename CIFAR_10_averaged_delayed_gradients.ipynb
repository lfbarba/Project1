{
  "nbformat": 4,
  "nbformat_minor": 0,
  "metadata": {
    "accelerator": "GPU",
    "colab": {
      "name": "CIFAR_10 averaged delayed gradients.ipynb",
      "provenance": [],
      "collapsed_sections": [],
      "include_colab_link": true
    },
    "kernelspec": {
      "display_name": "Python 3",
      "language": "python",
      "name": "python3"
    },
    "language_info": {
      "codemirror_mode": {
        "name": "ipython",
        "version": 3
      },
      "file_extension": ".py",
      "mimetype": "text/x-python",
      "name": "python",
      "nbconvert_exporter": "python",
      "pygments_lexer": "ipython3",
      "version": "3.7.3"
    }
  },
  "cells": [
    {
      "cell_type": "markdown",
      "metadata": {
        "id": "view-in-github",
        "colab_type": "text"
      },
      "source": [
        "<a href=\"https://colab.research.google.com/github/lfbarba/Project1/blob/master/CIFAR_10_averaged_delayed_gradients.ipynb\" target=\"_parent\"><img src=\"https://colab.research.google.com/assets/colab-badge.svg\" alt=\"Open In Colab\"/></a>"
      ]
    },
    {
      "cell_type": "code",
      "metadata": {
        "colab_type": "code",
        "id": "nZm3k_JwAxFK",
        "outputId": "9fe7a539-e653-4728-f14f-c301d21e8930",
        "colab": {
          "base_uri": "https://localhost:8080/",
          "height": 137
        }
      },
      "source": [
        "!pip3 install torch torchvision"
      ],
      "execution_count": 0,
      "outputs": [
        {
          "output_type": "stream",
          "text": [
            "Requirement already satisfied: torch in /usr/local/lib/python3.6/dist-packages (1.3.1)\n",
            "Requirement already satisfied: torchvision in /usr/local/lib/python3.6/dist-packages (0.4.2)\n",
            "Requirement already satisfied: numpy in /usr/local/lib/python3.6/dist-packages (from torch) (1.17.4)\n",
            "Requirement already satisfied: six in /usr/local/lib/python3.6/dist-packages (from torchvision) (1.12.0)\n",
            "Requirement already satisfied: pillow>=4.1.1 in /usr/local/lib/python3.6/dist-packages (from torchvision) (4.3.0)\n",
            "Requirement already satisfied: olefile in /usr/local/lib/python3.6/dist-packages (from pillow>=4.1.1->torchvision) (0.46)\n"
          ],
          "name": "stdout"
        }
      ]
    },
    {
      "cell_type": "markdown",
      "metadata": {
        "colab_type": "text",
        "id": "5oX6ISEIaA5k"
      },
      "source": [
        ""
      ]
    },
    {
      "cell_type": "code",
      "metadata": {
        "colab_type": "code",
        "id": "PKcBS6xfBK1Z",
        "colab": {}
      },
      "source": [
        "import torch\n",
        "import random\n",
        "import math \n",
        "import gc\n",
        "import copy\n",
        "import matplotlib.pyplot as plt\n",
        "import numpy as np\n",
        "import torch.nn.functional as F\n",
        "from torch import nn\n",
        "from torchvision import datasets, transforms"
      ],
      "execution_count": 0,
      "outputs": []
    },
    {
      "cell_type": "code",
      "metadata": {
        "colab_type": "code",
        "id": "oeOT_fh3uoGj",
        "colab": {}
      },
      "source": [
        ""
      ],
      "execution_count": 0,
      "outputs": []
    },
    {
      "cell_type": "code",
      "metadata": {
        "colab_type": "code",
        "id": "hC4ZVkTRB79P",
        "outputId": "c0c71851-62f3-4cb2-d151-5ed3caa6c0b2",
        "colab": {
          "base_uri": "https://localhost:8080/",
          "height": 302
        }
      },
      "source": [
        "transform_train = transforms.Compose([transforms.Resize((32,32)),\n",
        "                                      transforms.RandomHorizontalFlip(),\n",
        "                                      transforms.RandomRotation(10),\n",
        "                                      transforms.RandomAffine(0, shear=10, scale=(0.8,1.2)),\n",
        "                                      transforms.ColorJitter(brightness=0.2, contrast=0.2, saturation=0.2),\n",
        "                                      transforms.ToTensor(),\n",
        "                                      transforms.Normalize((0.5, 0.5, 0.5), (0.5, 0.5, 0.5))\n",
        "                               ])\n",
        "\n",
        "\n",
        "transform = transforms.Compose([transforms.Resize((32,32)),\n",
        "                               transforms.ToTensor(),\n",
        "                               transforms.Normalize((0.5, 0.5, 0.5), (0.5, 0.5, 0.5))\n",
        "                               ])\n",
        "training_dataset = datasets.CIFAR10(root='./data', train=True, download=True, transform=transform_train)\n",
        "validation_dataset = datasets.CIFAR10(root='./data', train=False, download=True, transform=transform)\n",
        "\n",
        "full_data = []\n",
        "for data in training_dataset:\n",
        "  full_data.append(data)\n",
        "training_dataset\n"
      ],
      "execution_count": 0,
      "outputs": [
        {
          "output_type": "stream",
          "text": [
            "Files already downloaded and verified\n",
            "Files already downloaded and verified\n"
          ],
          "name": "stdout"
        },
        {
          "output_type": "execute_result",
          "data": {
            "text/plain": [
              "Dataset CIFAR10\n",
              "    Number of datapoints: 50000\n",
              "    Root location: ./data\n",
              "    Split: Train\n",
              "    StandardTransform\n",
              "Transform: Compose(\n",
              "               Resize(size=(32, 32), interpolation=PIL.Image.BILINEAR)\n",
              "               RandomHorizontalFlip(p=0.5)\n",
              "               RandomRotation(degrees=(-10, 10), resample=False, expand=False)\n",
              "               RandomAffine(degrees=(0, 0), scale=(0.8, 1.2), shear=(-10, 10))\n",
              "               ColorJitter(brightness=[0.8, 1.2], contrast=[0.8, 1.2], saturation=[0.8, 1.2], hue=None)\n",
              "               ToTensor()\n",
              "               Normalize(mean=(0.5, 0.5, 0.5), std=(0.5, 0.5, 0.5))\n",
              "           )"
            ]
          },
          "metadata": {
            "tags": []
          },
          "execution_count": 28
        }
      ]
    },
    {
      "cell_type": "code",
      "metadata": {
        "id": "vVtqIQGmuNa5",
        "colab_type": "code",
        "colab": {}
      },
      "source": [
        "def takeLabel(elem):\n",
        "    return elem[1]\n",
        "\n",
        "full_data.sort(key=takeLabel)\n",
        "#random.shuffle(full_data)"
      ],
      "execution_count": 0,
      "outputs": []
    },
    {
      "cell_type": "code",
      "metadata": {
        "id": "-4Lq4lYlwWvc",
        "colab_type": "code",
        "colab": {}
      },
      "source": [
        ""
      ],
      "execution_count": 0,
      "outputs": []
    },
    {
      "cell_type": "code",
      "metadata": {
        "id": "LCww_LkFwjmf",
        "colab_type": "code",
        "colab": {}
      },
      "source": [
        ""
      ],
      "execution_count": 0,
      "outputs": []
    },
    {
      "cell_type": "code",
      "metadata": {
        "colab_type": "code",
        "id": "jCqX-QWODId3",
        "colab": {}
      },
      "source": [
        "def im_convert(tensor):\n",
        "  image = tensor.cpu().clone().detach().numpy()\n",
        "  image = image.transpose(1, 2, 0)\n",
        "  image = image * np.array((0.5, 0.5, 0.5)) + np.array((0.5, 0.5, 0.5))\n",
        "  image = image.clip(0, 1)\n",
        "  return image"
      ],
      "execution_count": 0,
      "outputs": []
    },
    {
      "cell_type": "code",
      "metadata": {
        "colab_type": "code",
        "id": "QpaIr_mkSqDY",
        "colab": {}
      },
      "source": [
        "classes = ('plane', 'car', 'bird', 'cat', 'deer', 'dog', 'frog', 'horse', 'ship', 'truck')"
      ],
      "execution_count": 0,
      "outputs": []
    },
    {
      "cell_type": "code",
      "metadata": {
        "colab_type": "code",
        "id": "8bUYaxqxGFET",
        "outputId": "9784abe1-58a7-45c6-ee82-5aaf38ca1dc6",
        "colab": {
          "base_uri": "https://localhost:8080/",
          "height": 481
        }
      },
      "source": [
        "for images, labels in training_loader[0]:\n",
        "  break\n",
        "fig = plt.figure(figsize=(25, 4))\n",
        "\n",
        "for idx in np.arange(20):\n",
        "  ax = fig.add_subplot(2, 10, idx+1, xticks=[], yticks=[])\n",
        "  plt.imshow(im_convert(images[idx]))\n",
        "  ax.set_title(classes[labels[idx].item()])"
      ],
      "execution_count": 122,
      "outputs": [
        {
          "output_type": "error",
          "ename": "IndexError",
          "evalue": "ignored",
          "traceback": [
            "\u001b[0;31m---------------------------------------------------------------------------\u001b[0m",
            "\u001b[0;31mIndexError\u001b[0m                                Traceback (most recent call last)",
            "\u001b[0;32m<ipython-input-122-74cf7aa56b77>\u001b[0m in \u001b[0;36m<module>\u001b[0;34m()\u001b[0m\n\u001b[1;32m      5\u001b[0m \u001b[0;32mfor\u001b[0m \u001b[0midx\u001b[0m \u001b[0;32min\u001b[0m \u001b[0mnp\u001b[0m\u001b[0;34m.\u001b[0m\u001b[0marange\u001b[0m\u001b[0;34m(\u001b[0m\u001b[0;36m20\u001b[0m\u001b[0;34m)\u001b[0m\u001b[0;34m:\u001b[0m\u001b[0;34m\u001b[0m\u001b[0;34m\u001b[0m\u001b[0m\n\u001b[1;32m      6\u001b[0m   \u001b[0max\u001b[0m \u001b[0;34m=\u001b[0m \u001b[0mfig\u001b[0m\u001b[0;34m.\u001b[0m\u001b[0madd_subplot\u001b[0m\u001b[0;34m(\u001b[0m\u001b[0;36m2\u001b[0m\u001b[0;34m,\u001b[0m \u001b[0;36m10\u001b[0m\u001b[0;34m,\u001b[0m \u001b[0midx\u001b[0m\u001b[0;34m+\u001b[0m\u001b[0;36m1\u001b[0m\u001b[0;34m,\u001b[0m \u001b[0mxticks\u001b[0m\u001b[0;34m=\u001b[0m\u001b[0;34m[\u001b[0m\u001b[0;34m]\u001b[0m\u001b[0;34m,\u001b[0m \u001b[0myticks\u001b[0m\u001b[0;34m=\u001b[0m\u001b[0;34m[\u001b[0m\u001b[0;34m]\u001b[0m\u001b[0;34m)\u001b[0m\u001b[0;34m\u001b[0m\u001b[0;34m\u001b[0m\u001b[0m\n\u001b[0;32m----> 7\u001b[0;31m   \u001b[0mplt\u001b[0m\u001b[0;34m.\u001b[0m\u001b[0mimshow\u001b[0m\u001b[0;34m(\u001b[0m\u001b[0mim_convert\u001b[0m\u001b[0;34m(\u001b[0m\u001b[0mimages\u001b[0m\u001b[0;34m[\u001b[0m\u001b[0midx\u001b[0m\u001b[0;34m]\u001b[0m\u001b[0;34m)\u001b[0m\u001b[0;34m)\u001b[0m\u001b[0;34m\u001b[0m\u001b[0;34m\u001b[0m\u001b[0m\n\u001b[0m\u001b[1;32m      8\u001b[0m   \u001b[0max\u001b[0m\u001b[0;34m.\u001b[0m\u001b[0mset_title\u001b[0m\u001b[0;34m(\u001b[0m\u001b[0mclasses\u001b[0m\u001b[0;34m[\u001b[0m\u001b[0mlabels\u001b[0m\u001b[0;34m[\u001b[0m\u001b[0midx\u001b[0m\u001b[0;34m]\u001b[0m\u001b[0;34m.\u001b[0m\u001b[0mitem\u001b[0m\u001b[0;34m(\u001b[0m\u001b[0;34m)\u001b[0m\u001b[0;34m]\u001b[0m\u001b[0;34m)\u001b[0m\u001b[0;34m\u001b[0m\u001b[0;34m\u001b[0m\u001b[0m\n",
            "\u001b[0;31mIndexError\u001b[0m: index 10 is out of bounds for dimension 0 with size 10"
          ]
        },
        {
          "output_type": "display_data",
          "data": {
            "image/png": "[encoded data removed]",
            "text/plain": [
              "<Figure size 1800x288 with 11 Axes>"
            ]
          },
          "metadata": {
            "tags": []
          }
        }
      ]
    },
    {
      "cell_type": "code",
      "metadata": {
        "colab_type": "code",
        "id": "ELDFsBKeHqJy",
        "colab": {}
      },
      "source": [
        "class LeNet(nn.Module):\n",
        "    def __init__(self):\n",
        "      super().__init__()\n",
        "      self.conv1 = nn.Conv2d(3, 16, 3, 1, padding=1)\n",
        "      self.conv2 = nn.Conv2d(16, 32, 3, 1, padding=1)\n",
        "      self.conv3 = nn.Conv2d(32, 64, 3, 1, padding=1)\n",
        "      self.fc1 = nn.Linear(4*4*64, 500)\n",
        "      self.dropout1 = nn.Dropout(0.5)\n",
        "      self.fc2 = nn.Linear(500, 10)\n",
        "    def forward(self, x):\n",
        "      x = F.relu(self.conv1(x))\n",
        "      x = F.max_pool2d(x, 2, 2)\n",
        "      x = F.relu(self.conv2(x))\n",
        "      x = F.max_pool2d(x, 2, 2)\n",
        "      x = F.relu(self.conv3(x))\n",
        "      x = F.max_pool2d(x, 2, 2)\n",
        "      x = x.view(-1, 4*4*64)\n",
        "      x = F.relu(self.fc1(x))\n",
        "      x = self.dropout1(x)\n",
        "      x = self.fc2(x)\n",
        "      return x"
      ],
      "execution_count": 0,
      "outputs": []
    },
    {
      "cell_type": "code",
      "metadata": {
        "id": "uFu3--lIeGMZ",
        "colab_type": "code",
        "colab": {}
      },
      "source": [
        "class CNN(nn.Module):\n",
        "    def __init__(self, dataset):\n",
        "        super(CNN, self).__init__()\n",
        "        self.dataset = dataset\n",
        "\n",
        "        if dataset == \"cifar10\" or dataset == \"mnist\":\n",
        "            self.num_classes = 10\n",
        "\n",
        "            if dataset == \"cifar10\":\n",
        "                side_size = 32\n",
        "                n_filters = 3\n",
        "            else:\n",
        "                n_filters = 1\n",
        "                side_size = 28\n",
        "\n",
        "            flatten_side_size = side_size - 2 * 3\n",
        "\n",
        "            self.net = nn.Sequential(\n",
        "                nn.Conv2d(n_filters, 32, (3, 3)),\n",
        "                nn.ReLU(),\n",
        "                nn.Conv2d(32, 64, (3, 3)),\n",
        "                nn.ReLU(),\n",
        "                nn.Conv2d(64, 64, (3, 3)),\n",
        "                nn.ReLU(),\n",
        "                nn.Flatten(),\n",
        "                nn.Linear(64 * flatten_side_size * flatten_side_size, 64),\n",
        "                nn.ReLU(),\n",
        "                nn.Linear(64, self.num_classes)\n",
        "            )\n",
        "\n",
        "        elif dataset.startswith(\"digits\"):\n",
        "            if dataset == \"digits\":\n",
        "                self.num_classes = 10\n",
        "            else:\n",
        "                self.num_classes = int(dataset[6:])\n",
        "            self.net = nn.Sequential(\n",
        "                nn.Conv2d(1, 8, (3, 3)),\n",
        "                nn.ReLU(),\n",
        "                nn.Conv2d(8, 16, (3, 3)),\n",
        "                nn.ReLU(),\n",
        "                nn.Flatten(),\n",
        "                nn.Linear(16 * 4 * 4, 32),\n",
        "                nn.ReLU(),\n",
        "                nn.Linear(32, self.num_classes)\n",
        "            )\n",
        "\n",
        "    def forward(self, x):\n",
        "        return self.net(x)"
      ],
      "execution_count": 0,
      "outputs": []
    },
    {
      "cell_type": "code",
      "metadata": {
        "colab_type": "code",
        "id": "w6wxPBg_Od3t",
        "colab": {}
      },
      "source": [
        "class Tester():\n",
        "  def __init__(self, training_loader, validation_loader, num_workers, restart_loss_history = True):\n",
        "    self.num_workers = num_workers\n",
        "    self.training_loader = training_loader\n",
        "    self.validation_loader = validation_loader\n",
        "    if restart_loss_history:\n",
        "      self.val_running_loss_history = []\n",
        "      self.val_running_corrects_history = []\n",
        "\n",
        "  def setUpExperiment(self, model, device, criterion, max_num_rounds = 2000, num_local_steps = 1, sampling_rate = 1.0):\n",
        "    self.max_num_rounds = max_num_rounds\n",
        "    self.num_local_steps = num_local_steps\n",
        "    self.device = device\n",
        "    self.sampling_rate  = sampling_rate\n",
        "    \n",
        "    self.criterion = criterion\n",
        "    self.model = model\n",
        "\n",
        "    self.step_size = 0.001 / math.sqrt(self.num_local_steps)\n",
        "    self.optimizer = torch.optim.Adam(self.model.parameters(), lr = self.step_size)\n",
        "    self.scheduler = torch.optim.lr_scheduler.MultiStepLR(self.optimizer, milestones=[1000,2000, 3000, 4000], gamma=0.5)\n",
        "\n",
        "    \n",
        "    self.delta = []\n",
        "    self.sum_error = []\n",
        "    self.avg_error = []\n",
        "    param_list = list(self.model.parameters())\n",
        "    for i in range(0, len(param_list)):\n",
        "        self.delta.append(param_list[i]*0)\n",
        "        self.sum_error.append(param_list[i]*0)\n",
        "        self.avg_error.append(param_list[i]*0)\n",
        "\n",
        "    self.num_rounds = 0\n",
        "\n",
        "    while self.num_rounds <= self.max_num_rounds:\n",
        "      self.runRound()\n",
        "      self.num_rounds += 1\n",
        "      self.scheduler.step(self.num_rounds)\n",
        "      if self.num_rounds % 50 == 0:\n",
        "        self.updateData()\n",
        "\n",
        "  def computeJoinedGradient(self):\n",
        "    inputs = []\n",
        "    labels = []\n",
        "    \n",
        "    training_list = list(np.arange(0, num_workers))\n",
        "    random.shuffle(training_list)\n",
        "    training_list = training_list[0:math.ceil(sampling_rate * num_workers)]\n",
        "    for worker in training_list:\n",
        "      for batch_inputs, batch_labels in training_loader[worker]:\n",
        "        inputs.append(batch_inputs)\n",
        "        labels.append(batch_labels)\n",
        "        break\n",
        "    joined_inputs = torch.cat(inputs, 0).to(self.device)\n",
        "    joined_labels = torch.cat(labels, 0).to(self.device)\n",
        " \n",
        "    outputs = self.model(joined_inputs)\n",
        "    loss = self.criterion(outputs, joined_labels)\n",
        "\n",
        "    self.optimizer.zero_grad()\n",
        "    loss.backward()\n",
        "\n",
        "\n",
        "  def runRound(self):\n",
        "    #update the error and sum before starting a new round\n",
        "    for i, param in enumerate(model.parameters()):\n",
        "      self.avg_error[i] = self.sum_error[i]/self.num_local_steps\n",
        "      self.delta[i] = self.delta[i] + self.avg_error[i]\n",
        "      self.sum_error[i] = self.sum_error[i] * 0\n",
        "\n",
        "    for current_local_step in range(0, num_local_steps):\n",
        "      self.computeJoinedGradient()\n",
        "      for i, param in enumerate(model.parameters()):\n",
        "        self.sum_error[i] += param.grad - self.delta[i]\n",
        "        param.grad = self.delta[i] + self.avg_error[i]\n",
        "\n",
        "      self.optimizer.step()\n",
        "    \n",
        "      \n",
        "  def updateData(self):\n",
        "    self.val_running_loss = 0.0\n",
        "    self.val_running_corrects = 0.0\n",
        "    with torch.no_grad():\n",
        "      for val_inputs, val_labels in self.validation_loader:\n",
        "        val_inputs = val_inputs.to(self.device)\n",
        "        val_labels = val_labels.to(self.device)\n",
        "        val_outputs = self.model(val_inputs)\n",
        "        val_loss = self.criterion(val_outputs, val_labels)\n",
        "\n",
        "        _, val_preds = torch.max(val_outputs, 1)\n",
        "        self.val_running_loss += val_loss.item()\n",
        "        self.val_running_corrects += torch.sum(val_preds == val_labels.data)\n",
        "\n",
        "    val_epoch_loss = self.val_running_loss/len(self.validation_loader)\n",
        "    val_epoch_acc = self.val_running_corrects.float()/ len(self.validation_loader)\n",
        "    self.val_running_loss_history.append(val_epoch_loss)\n",
        "    self.val_running_corrects_history.append(val_epoch_acc)\n",
        "    print('num_local_steps : ', self.num_local_steps, ', rounds communication : ', self.num_rounds)\n",
        "    print('validation loss: {:.4f}, validation acc {:.4f} '.format(val_epoch_loss, val_epoch_acc.item()))"
      ],
      "execution_count": 0,
      "outputs": []
    },
    {
      "cell_type": "code",
      "metadata": {
        "id": "GHBhlAejee03",
        "colab_type": "code",
        "colab": {}
      },
      "source": [
        "#split the data\n",
        "num_workers = 100\n",
        "size = math.floor(len(full_data)/num_workers)\n",
        "t_dataset_per_worker = []\n",
        "for i in range(0, num_workers):\n",
        "  t_dataset_per_worker.append(full_data[i*size:i*size+size])"
      ],
      "execution_count": 0,
      "outputs": []
    },
    {
      "cell_type": "code",
      "metadata": {
        "id": "h2Yc3XOfelrp",
        "colab_type": "code",
        "colab": {}
      },
      "source": [
        "#create the training loaders\n",
        "validation_loader = torch.utils.data.DataLoader(validation_dataset, batch_size = 100, shuffle=False)\n",
        "training_loader = [] \n",
        "worker_batch_size = 20\n",
        "for i in range(0, num_workers):\n",
        "  training_loader.append(torch.utils.data.DataLoader(t_dataset_per_worker[i], worker_batch_size, shuffle=True))\n"
      ],
      "execution_count": 0,
      "outputs": []
    },
    {
      "cell_type": "code",
      "metadata": {
        "colab_type": "code",
        "id": "zsd3HPylP9UE",
        "colab": {}
      },
      "source": [
        "#Local steps before syncrhonization\n",
        "device = torch.device(\"cuda:0\" if torch.cuda.is_available() else \"cpu\")\n",
        "criterion = nn.CrossEntropyLoss()\n",
        "tester = Tester(training_loader, validation_loader, num_workers)\n",
        "model = LeNet().to(device)\n",
        "        "
      ],
      "execution_count": 0,
      "outputs": []
    },
    {
      "cell_type": "code",
      "metadata": {
        "id": "rgXA9UnMfAbO",
        "colab_type": "code",
        "outputId": "220b11d5-a14f-422c-bf91-c36be8e30191",
        "colab": {
          "base_uri": "https://localhost:8080/",
          "height": 1000
        }
      },
      "source": [
        "list_local_steps = [2, 4, 6, 8, 10, 20]\n",
        "for num_local_steps in list_local_steps:\n",
        "  sampling_rate = 0.05\n",
        "  print(\"num_local_steps \", num_local_steps, \" num_workers \", num_workers, \" batch_size per worker \", worker_batch_size, \" sampling_rate \", sampling_rate)\n",
        "  tester.setUpExperiment(model, device, criterion, 5000, num_local_steps, sampling_rate)\n",
        "  #save data\n",
        "  label ='bs:'+str(worker_batch_size)+', w:'+str(num_workers)+', s:'+str(sampling_rate)+', k:'+str(num_local_steps)\n",
        "  history.append({'label':label, 'data':tester.val_running_loss_history})\n",
        "  history_acc.append({'label':label, 'data':tester.val_running_corrects_history})"
      ],
      "execution_count": 239,
      "outputs": [
        {
          "output_type": "stream",
          "text": [
            "num_local_steps  1  num_workers  100  batch_size per worker  20  sampling_rate  0.05\n",
            "num_local_steps :  1 , rounds communication :  50\n",
            "validation loss: 2.2946, validation acc 12.4000 \n",
            "num_local_steps :  1 , rounds communication :  100\n",
            "validation loss: 2.1515, validation acc 20.8600 \n",
            "num_local_steps :  1 , rounds communication :  150\n",
            "validation loss: 2.0192, validation acc 22.6500 \n",
            "num_local_steps :  1 , rounds communication :  200\n",
            "validation loss: 1.9224, validation acc 29.6200 \n",
            "num_local_steps :  1 , rounds communication :  250\n",
            "validation loss: 1.8443, validation acc 31.0200 \n",
            "num_local_steps :  1 , rounds communication :  300\n",
            "validation loss: 1.8434, validation acc 31.1600 \n",
            "num_local_steps :  1 , rounds communication :  350\n",
            "validation loss: 1.7523, validation acc 34.4000 \n",
            "num_local_steps :  1 , rounds communication :  400\n",
            "validation loss: 1.7428, validation acc 34.7900 \n",
            "num_local_steps :  1 , rounds communication :  450\n",
            "validation loss: 1.7202, validation acc 36.6200 \n",
            "num_local_steps :  1 , rounds communication :  500\n",
            "validation loss: 1.6752, validation acc 37.9700 \n",
            "num_local_steps :  1 , rounds communication :  550\n",
            "validation loss: 1.6404, validation acc 39.1900 \n",
            "num_local_steps :  1 , rounds communication :  600\n",
            "validation loss: 1.6228, validation acc 38.0300 \n",
            "num_local_steps :  1 , rounds communication :  650\n",
            "validation loss: 1.5715, validation acc 41.3800 \n",
            "num_local_steps :  1 , rounds communication :  700\n",
            "validation loss: 1.5860, validation acc 40.8800 \n",
            "num_local_steps :  1 , rounds communication :  750\n",
            "validation loss: 1.5567, validation acc 41.4200 \n",
            "num_local_steps :  1 , rounds communication :  800\n",
            "validation loss: 1.5404, validation acc 42.5000 \n",
            "num_local_steps :  1 , rounds communication :  850\n",
            "validation loss: 1.5090, validation acc 43.7100 \n",
            "num_local_steps :  1 , rounds communication :  900\n",
            "validation loss: 1.4529, validation acc 46.5100 \n",
            "num_local_steps :  1 , rounds communication :  950\n",
            "validation loss: 1.4738, validation acc 46.3600 \n",
            "num_local_steps :  1 , rounds communication :  1000\n",
            "validation loss: 1.4203, validation acc 47.7300 \n",
            "num_local_steps :  1 , rounds communication :  1050\n",
            "validation loss: 1.4358, validation acc 46.6400 \n",
            "num_local_steps :  1 , rounds communication :  1100\n",
            "validation loss: 1.4295, validation acc 47.4900 \n",
            "num_local_steps :  1 , rounds communication :  1150\n",
            "validation loss: 1.4679, validation acc 46.5600 \n",
            "num_local_steps :  1 , rounds communication :  1200\n",
            "validation loss: 1.4172, validation acc 47.9400 \n",
            "num_local_steps :  1 , rounds communication :  1250\n",
            "validation loss: 1.3703, validation acc 49.7800 \n",
            "num_local_steps :  1 , rounds communication :  1300\n",
            "validation loss: 1.3927, validation acc 49.5200 \n",
            "num_local_steps :  1 , rounds communication :  1350\n",
            "validation loss: 1.3927, validation acc 48.3500 \n",
            "num_local_steps :  1 , rounds communication :  1400\n",
            "validation loss: 1.4506, validation acc 46.6700 \n",
            "num_local_steps :  1 , rounds communication :  1450\n",
            "validation loss: 1.3349, validation acc 50.9600 \n",
            "num_local_steps :  1 , rounds communication :  1500\n",
            "validation loss: 1.3762, validation acc 49.2800 \n",
            "num_local_steps :  1 , rounds communication :  1550\n",
            "validation loss: 1.3423, validation acc 51.3600 \n",
            "num_local_steps :  1 , rounds communication :  1600\n",
            "validation loss: 1.3608, validation acc 51.0700 \n",
            "num_local_steps :  1 , rounds communication :  1650\n",
            "validation loss: 1.3109, validation acc 52.0700 \n",
            "num_local_steps :  1 , rounds communication :  1700\n",
            "validation loss: 1.3138, validation acc 51.6900 \n",
            "num_local_steps :  1 , rounds communication :  1750\n",
            "validation loss: 1.3294, validation acc 51.5600 \n",
            "num_local_steps :  1 , rounds communication :  1800\n",
            "validation loss: 1.3216, validation acc 51.8000 \n",
            "num_local_steps :  1 , rounds communication :  1850\n",
            "validation loss: 1.2914, validation acc 52.6100 \n",
            "num_local_steps :  1 , rounds communication :  1900\n",
            "validation loss: 1.2931, validation acc 52.9700 \n",
            "num_local_steps :  1 , rounds communication :  1950\n",
            "validation loss: 1.3227, validation acc 52.2600 \n",
            "num_local_steps :  1 , rounds communication :  2000\n",
            "validation loss: 1.2544, validation acc 54.9100 \n",
            "num_local_steps :  1 , rounds communication :  2050\n",
            "validation loss: 1.2895, validation acc 54.0400 \n",
            "num_local_steps :  1 , rounds communication :  2100\n",
            "validation loss: 1.2500, validation acc 54.7900 \n",
            "num_local_steps :  1 , rounds communication :  2150\n",
            "validation loss: 1.2622, validation acc 55.0900 \n",
            "num_local_steps :  1 , rounds communication :  2200\n",
            "validation loss: 1.2789, validation acc 53.6200 \n",
            "num_local_steps :  1 , rounds communication :  2250\n",
            "validation loss: 1.2543, validation acc 54.4300 \n",
            "num_local_steps :  1 , rounds communication :  2300\n",
            "validation loss: 1.2748, validation acc 53.9200 \n",
            "num_local_steps :  1 , rounds communication :  2350\n",
            "validation loss: 1.2846, validation acc 53.1700 \n",
            "num_local_steps :  1 , rounds communication :  2400\n",
            "validation loss: 1.2964, validation acc 53.5300 \n",
            "num_local_steps :  1 , rounds communication :  2450\n",
            "validation loss: 1.2843, validation acc 52.4600 \n",
            "num_local_steps :  1 , rounds communication :  2500\n",
            "validation loss: 1.2213, validation acc 56.4600 \n",
            "num_local_steps :  1 , rounds communication :  2550\n",
            "validation loss: 1.1907, validation acc 57.1700 \n",
            "num_local_steps :  1 , rounds communication :  2600\n",
            "validation loss: 1.2407, validation acc 55.7000 \n",
            "num_local_steps :  1 , rounds communication :  2650\n",
            "validation loss: 1.2029, validation acc 56.1500 \n",
            "num_local_steps :  1 , rounds communication :  2700\n",
            "validation loss: 1.2158, validation acc 56.2100 \n",
            "num_local_steps :  1 , rounds communication :  2750\n",
            "validation loss: 1.2613, validation acc 54.4000 \n",
            "num_local_steps :  1 , rounds communication :  2800\n",
            "validation loss: 1.1874, validation acc 58.1700 \n",
            "num_local_steps :  1 , rounds communication :  2850\n",
            "validation loss: 1.2324, validation acc 56.9100 \n",
            "num_local_steps :  1 , rounds communication :  2900\n",
            "validation loss: 1.1966, validation acc 57.2100 \n",
            "num_local_steps :  1 , rounds communication :  2950\n",
            "validation loss: 1.1653, validation acc 58.3200 \n",
            "num_local_steps :  1 , rounds communication :  3000\n",
            "validation loss: 1.1833, validation acc 57.2400 \n",
            "num_local_steps :  1 , rounds communication :  3050\n",
            "validation loss: 1.1587, validation acc 58.7300 \n",
            "num_local_steps :  1 , rounds communication :  3100\n",
            "validation loss: 1.1886, validation acc 57.8600 \n",
            "num_local_steps :  1 , rounds communication :  3150\n",
            "validation loss: 1.2432, validation acc 56.3300 \n",
            "num_local_steps :  1 , rounds communication :  3200\n",
            "validation loss: 1.1515, validation acc 60.0100 \n",
            "num_local_steps :  1 , rounds communication :  3250\n",
            "validation loss: 1.1301, validation acc 59.7500 \n",
            "num_local_steps :  1 , rounds communication :  3300\n",
            "validation loss: 1.1515, validation acc 59.2900 \n",
            "num_local_steps :  1 , rounds communication :  3350\n",
            "validation loss: 1.1715, validation acc 58.6600 \n",
            "num_local_steps :  1 , rounds communication :  3400\n",
            "validation loss: 1.1285, validation acc 59.8500 \n",
            "num_local_steps :  1 , rounds communication :  3450\n",
            "validation loss: 1.1599, validation acc 58.4300 \n",
            "num_local_steps :  1 , rounds communication :  3500\n",
            "validation loss: 1.1687, validation acc 58.8700 \n",
            "num_local_steps :  1 , rounds communication :  3550\n",
            "validation loss: 1.1832, validation acc 57.4900 \n",
            "num_local_steps :  1 , rounds communication :  3600\n",
            "validation loss: 1.1352, validation acc 60.1400 \n",
            "num_local_steps :  1 , rounds communication :  3650\n",
            "validation loss: 1.1153, validation acc 60.7300 \n",
            "num_local_steps :  1 , rounds communication :  3700\n",
            "validation loss: 1.1754, validation acc 58.3900 \n",
            "num_local_steps :  1 , rounds communication :  3750\n",
            "validation loss: 1.1228, validation acc 60.1600 \n",
            "num_local_steps :  1 , rounds communication :  3800\n",
            "validation loss: 1.1264, validation acc 60.3700 \n",
            "num_local_steps :  1 , rounds communication :  3850\n",
            "validation loss: 1.1744, validation acc 58.7100 \n",
            "num_local_steps :  1 , rounds communication :  3900\n",
            "validation loss: 1.1248, validation acc 60.6700 \n",
            "num_local_steps :  1 , rounds communication :  3950\n",
            "validation loss: 1.1061, validation acc 61.0700 \n",
            "num_local_steps :  1 , rounds communication :  4000\n",
            "validation loss: 1.1103, validation acc 61.4600 \n",
            "num_local_steps :  1 , rounds communication :  4050\n",
            "validation loss: 1.1208, validation acc 60.3500 \n",
            "num_local_steps :  1 , rounds communication :  4100\n",
            "validation loss: 1.0993, validation acc 61.5200 \n",
            "num_local_steps :  1 , rounds communication :  4150\n",
            "validation loss: 1.1674, validation acc 59.2100 \n",
            "num_local_steps :  1 , rounds communication :  4200\n",
            "validation loss: 1.1638, validation acc 59.6500 \n",
            "num_local_steps :  1 , rounds communication :  4250\n",
            "validation loss: 1.1172, validation acc 61.3000 \n",
            "num_local_steps :  1 , rounds communication :  4300\n",
            "validation loss: 1.1162, validation acc 61.3900 \n",
            "num_local_steps :  1 , rounds communication :  4350\n",
            "validation loss: 1.1312, validation acc 60.5600 \n",
            "num_local_steps :  1 , rounds communication :  4400\n",
            "validation loss: 1.1112, validation acc 60.7700 \n",
            "num_local_steps :  1 , rounds communication :  4450\n",
            "validation loss: 1.0827, validation acc 62.3400 \n",
            "num_local_steps :  1 , rounds communication :  4500\n",
            "validation loss: 1.1102, validation acc 61.2700 \n",
            "num_local_steps :  1 , rounds communication :  4550\n",
            "validation loss: 1.1346, validation acc 61.2100 \n",
            "num_local_steps :  1 , rounds communication :  4600\n",
            "validation loss: 1.0924, validation acc 62.1500 \n",
            "num_local_steps :  1 , rounds communication :  4650\n",
            "validation loss: 1.0953, validation acc 61.9400 \n",
            "num_local_steps :  1 , rounds communication :  4700\n",
            "validation loss: 1.1079, validation acc 61.4400 \n",
            "num_local_steps :  1 , rounds communication :  4750\n",
            "validation loss: 1.0858, validation acc 62.2600 \n",
            "num_local_steps :  1 , rounds communication :  4800\n",
            "validation loss: 1.1189, validation acc 60.5600 \n",
            "num_local_steps :  1 , rounds communication :  4850\n",
            "validation loss: 1.0855, validation acc 62.1900 \n",
            "num_local_steps :  1 , rounds communication :  4900\n",
            "validation loss: 1.1680, validation acc 59.8900 \n",
            "num_local_steps :  1 , rounds communication :  4950\n",
            "validation loss: 1.0633, validation acc 62.8600 \n",
            "num_local_steps :  1 , rounds communication :  5000\n",
            "validation loss: 1.0641, validation acc 63.0500 \n"
          ],
          "name": "stdout"
        }
      ]
    },
    {
      "cell_type": "code",
      "metadata": {
        "id": "Na4s2S4sPsH-",
        "colab_type": "code",
        "colab": {}
      },
      "source": [
        ""
      ],
      "execution_count": 0,
      "outputs": []
    },
    {
      "cell_type": "code",
      "metadata": {
        "colab_type": "code",
        "id": "R1A-fOideMnx",
        "colab": {
          "base_uri": "https://localhost:8080/",
          "height": 302
        },
        "outputId": "99da7631-613f-445e-a093-cac1b8b5f946"
      },
      "source": [
        "for experiment in history:\n",
        "  plt.plot(experiment['data'], label=experiment['label'])\n",
        "    \n",
        "plt.legend()"
      ],
      "execution_count": 241,
      "outputs": [
        {
          "output_type": "execute_result",
          "data": {
            "text/plain": [
              "<matplotlib.legend.Legend at 0x7f4500741a90>"
            ]
          },
          "metadata": {
            "tags": []
          },
          "execution_count": 241
        },
        {
          "output_type": "display_data",
          "data": {
            "image/png": "[encoded data removed]",
            "text/plain": [
              "<Figure size 432x288 with 1 Axes>"
            ]
          },
          "metadata": {
            "tags": []
          }
        }
      ]
    },
    {
      "cell_type": "code",
      "metadata": {
        "id": "gaLOO8WR7tpB",
        "colab_type": "code",
        "colab": {
          "base_uri": "https://localhost:8080/",
          "height": 302
        },
        "outputId": "8be6902d-837a-4739-8478-972d304070e9"
      },
      "source": [
        "for experiment in history_acc:\n",
        "  plt.plot(experiment['data'], label=experiment['label'])\n",
        "    \n",
        "plt.legend()"
      ],
      "execution_count": 242,
      "outputs": [
        {
          "output_type": "execute_result",
          "data": {
            "text/plain": [
              "<matplotlib.legend.Legend at 0x7f4500741668>"
            ]
          },
          "metadata": {
            "tags": []
          },
          "execution_count": 242
        },
        {
          "output_type": "display_data",
          "data": {
            "image/png": "[encoded data removed]",
            "text/plain": [
              "<Figure size 432x288 with 1 Axes>"
            ]
          },
          "metadata": {
            "tags": []
          }
        }
      ]
    },
    {
      "cell_type": "code",
      "metadata": {
        "id": "CkyBqiL-QPMc",
        "colab_type": "code",
        "colab": {}
      },
      "source": [
        "history = []\n",
        "history_acc = []"
      ],
      "execution_count": 0,
      "outputs": []
    },
    {
      "cell_type": "code",
      "metadata": {
        "id": "iYKGndaLTIBX",
        "colab_type": "code",
        "colab": {}
      },
      "source": [
        ""
      ],
      "execution_count": 0,
      "outputs": []
    }
  ]
}