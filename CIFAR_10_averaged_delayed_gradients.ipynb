{
  "nbformat": 4,
  "nbformat_minor": 0,
  "metadata": {
    "accelerator": "GPU",
    "colab": {
      "name": "CIFAR_10 averaged delayed gradients.ipynb",
      "provenance": [],
      "collapsed_sections": [],
      "include_colab_link": true
    },
    "kernelspec": {
      "display_name": "Python 3",
      "language": "python",
      "name": "python3"
    },
    "language_info": {
      "codemirror_mode": {
        "name": "ipython",
        "version": 3
      },
      "file_extension": ".py",
      "mimetype": "text/x-python",
      "name": "python",
      "nbconvert_exporter": "python",
      "pygments_lexer": "ipython3",
      "version": "3.7.3"
    }
  },
  "cells": [
    {
      "cell_type": "markdown",
      "metadata": {
        "id": "view-in-github",
        "colab_type": "text"
      },
      "source": [
        "<a href=\"https://colab.research.google.com/github/lfbarba/Project1/blob/master/CIFAR_10_averaged_delayed_gradients.ipynb\" target=\"_parent\"><img src=\"https://colab.research.google.com/assets/colab-badge.svg\" alt=\"Open In Colab\"/></a>"
      ]
    },
    {
      "cell_type": "code",
      "metadata": {
        "colab_type": "code",
        "id": "nZm3k_JwAxFK",
        "outputId": "9fe7a539-e653-4728-f14f-c301d21e8930",
        "colab": {
          "base_uri": "https://localhost:8080/",
          "height": 137
        }
      },
      "source": [
        "!pip3 install torch torchvision"
      ],
      "execution_count": 0,
      "outputs": [
        {
          "output_type": "stream",
          "text": [
            "Requirement already satisfied: torch in /usr/local/lib/python3.6/dist-packages (1.3.1)\n",
            "Requirement already satisfied: torchvision in /usr/local/lib/python3.6/dist-packages (0.4.2)\n",
            "Requirement already satisfied: numpy in /usr/local/lib/python3.6/dist-packages (from torch) (1.17.4)\n",
            "Requirement already satisfied: six in /usr/local/lib/python3.6/dist-packages (from torchvision) (1.12.0)\n",
            "Requirement already satisfied: pillow>=4.1.1 in /usr/local/lib/python3.6/dist-packages (from torchvision) (4.3.0)\n",
            "Requirement already satisfied: olefile in /usr/local/lib/python3.6/dist-packages (from pillow>=4.1.1->torchvision) (0.46)\n"
          ],
          "name": "stdout"
        }
      ]
    },
    {
      "cell_type": "markdown",
      "metadata": {
        "colab_type": "text",
        "id": "5oX6ISEIaA5k"
      },
      "source": [
        ""
      ]
    },
    {
      "cell_type": "code",
      "metadata": {
        "colab_type": "code",
        "id": "PKcBS6xfBK1Z",
        "colab": {}
      },
      "source": [
        "import torch\n",
        "import random\n",
        "import math \n",
        "import gc\n",
        "import copy\n",
        "import matplotlib.pyplot as plt\n",
        "import numpy as np\n",
        "import torch.nn.functional as F\n",
        "from torch import nn\n",
        "from torchvision import datasets, transforms"
      ],
      "execution_count": 0,
      "outputs": []
    },
    {
      "cell_type": "code",
      "metadata": {
        "colab_type": "code",
        "id": "oeOT_fh3uoGj",
        "colab": {}
      },
      "source": [
        "device = torch.device(\"cuda:0\" if torch.cuda.is_available() else \"cpu\")"
      ],
      "execution_count": 0,
      "outputs": []
    },
    {
      "cell_type": "code",
      "metadata": {
        "colab_type": "code",
        "id": "hC4ZVkTRB79P",
        "outputId": "c0c71851-62f3-4cb2-d151-5ed3caa6c0b2",
        "colab": {
          "base_uri": "https://localhost:8080/",
          "height": 302
        }
      },
      "source": [
        "transform_train = transforms.Compose([transforms.Resize((32,32)),\n",
        "                                      transforms.RandomHorizontalFlip(),\n",
        "                                      transforms.RandomRotation(10),\n",
        "                                      transforms.RandomAffine(0, shear=10, scale=(0.8,1.2)),\n",
        "                                      transforms.ColorJitter(brightness=0.2, contrast=0.2, saturation=0.2),\n",
        "                                      transforms.ToTensor(),\n",
        "                                      transforms.Normalize((0.5, 0.5, 0.5), (0.5, 0.5, 0.5))\n",
        "                               ])\n",
        "\n",
        "\n",
        "transform = transforms.Compose([transforms.Resize((32,32)),\n",
        "                               transforms.ToTensor(),\n",
        "                               transforms.Normalize((0.5, 0.5, 0.5), (0.5, 0.5, 0.5))\n",
        "                               ])\n",
        "training_dataset = datasets.CIFAR10(root='./data', train=True, download=True, transform=transform_train)\n",
        "validation_dataset = datasets.CIFAR10(root='./data', train=False, download=True, transform=transform)\n",
        "\n",
        "full_data = []\n",
        "for data in training_dataset:\n",
        "  full_data.append(data)\n",
        "training_dataset\n"
      ],
      "execution_count": 0,
      "outputs": [
        {
          "output_type": "stream",
          "text": [
            "Files already downloaded and verified\n",
            "Files already downloaded and verified\n"
          ],
          "name": "stdout"
        },
        {
          "output_type": "execute_result",
          "data": {
            "text/plain": [
              "Dataset CIFAR10\n",
              "    Number of datapoints: 50000\n",
              "    Root location: ./data\n",
              "    Split: Train\n",
              "    StandardTransform\n",
              "Transform: Compose(\n",
              "               Resize(size=(32, 32), interpolation=PIL.Image.BILINEAR)\n",
              "               RandomHorizontalFlip(p=0.5)\n",
              "               RandomRotation(degrees=(-10, 10), resample=False, expand=False)\n",
              "               RandomAffine(degrees=(0, 0), scale=(0.8, 1.2), shear=(-10, 10))\n",
              "               ColorJitter(brightness=[0.8, 1.2], contrast=[0.8, 1.2], saturation=[0.8, 1.2], hue=None)\n",
              "               ToTensor()\n",
              "               Normalize(mean=(0.5, 0.5, 0.5), std=(0.5, 0.5, 0.5))\n",
              "           )"
            ]
          },
          "metadata": {
            "tags": []
          },
          "execution_count": 28
        }
      ]
    },
    {
      "cell_type": "code",
      "metadata": {
        "id": "vVtqIQGmuNa5",
        "colab_type": "code",
        "colab": {}
      },
      "source": [
        "def takeLabel(elem):\n",
        "    return elem[1]\n",
        "\n",
        "full_data.sort(key=takeLabel)\n",
        "random.shuffle(full_data)"
      ],
      "execution_count": 0,
      "outputs": []
    },
    {
      "cell_type": "code",
      "metadata": {
        "id": "-4Lq4lYlwWvc",
        "colab_type": "code",
        "colab": {}
      },
      "source": [
        "#split the data\n",
        "num_workers = 2\n",
        "size = math.floor(len(full_data)/num_workers)\n",
        "t_dataset_per_worker = []\n",
        "for i in range(0, num_workers):\n",
        "  t_dataset_per_worker.append(full_data[i*size:i*size+size])"
      ],
      "execution_count": 0,
      "outputs": []
    },
    {
      "cell_type": "code",
      "metadata": {
        "id": "LCww_LkFwjmf",
        "colab_type": "code",
        "colab": {}
      },
      "source": [
        "validation_loader = torch.utils.data.DataLoader(validation_dataset, batch_size = 100, shuffle=False)\n",
        "training_loader = [] \n",
        "worker_batch_size = 100\n",
        "for i in range(0, num_workers):\n",
        "  training_loader.append(torch.utils.data.DataLoader(t_dataset_per_worker[i], worker_batch_size, shuffle=True))\n"
      ],
      "execution_count": 0,
      "outputs": []
    },
    {
      "cell_type": "code",
      "metadata": {
        "id": "2T0PmFMRR9tz",
        "colab_type": "code",
        "colab": {}
      },
      "source": [
        ""
      ],
      "execution_count": 0,
      "outputs": []
    },
    {
      "cell_type": "code",
      "metadata": {
        "colab_type": "code",
        "id": "jCqX-QWODId3",
        "colab": {}
      },
      "source": [
        "def im_convert(tensor):\n",
        "  image = tensor.cpu().clone().detach().numpy()\n",
        "  image = image.transpose(1, 2, 0)\n",
        "  image = image * np.array((0.5, 0.5, 0.5)) + np.array((0.5, 0.5, 0.5))\n",
        "  image = image.clip(0, 1)\n",
        "  return image"
      ],
      "execution_count": 0,
      "outputs": []
    },
    {
      "cell_type": "code",
      "metadata": {
        "colab_type": "code",
        "id": "QpaIr_mkSqDY",
        "colab": {}
      },
      "source": [
        "classes = ('plane', 'car', 'bird', 'cat', 'deer', 'dog', 'frog', 'horse', 'ship', 'truck')"
      ],
      "execution_count": 0,
      "outputs": []
    },
    {
      "cell_type": "code",
      "metadata": {
        "colab_type": "code",
        "id": "8bUYaxqxGFET",
        "outputId": "83f7f795-aa7a-48a4-9f91-3a5b8d4ccbd6",
        "colab": {
          "base_uri": "https://localhost:8080/",
          "height": 288
        }
      },
      "source": [
        "for images, labels in training_loader[0]:\n",
        "  break\n",
        "fig = plt.figure(figsize=(25, 4))\n",
        "\n",
        "for idx in np.arange(20):\n",
        "  ax = fig.add_subplot(2, 10, idx+1, xticks=[], yticks=[])\n",
        "  plt.imshow(im_convert(images[idx]))\n",
        "  ax.set_title(classes[labels[idx].item()])"
      ],
      "execution_count": 0,
      "outputs": [
        {
          "output_type": "display_data",
          "data": {
            "image/png": "[encoded data removed]",
            "text/plain": [
              "<Figure size 1800x288 with 20 Axes>"
            ]
          },
          "metadata": {
            "tags": []
          }
        }
      ]
    },
    {
      "cell_type": "code",
      "metadata": {
        "id": "23jPcoXLNxhT",
        "colab_type": "code",
        "outputId": "f65fcd1c-2668-489b-fa72-31d835f27840",
        "colab": {
          "base_uri": "https://localhost:8080/",
          "height": 71
        }
      },
      "source": [
        "join_tensor = torch.zeros([1, 3, 32, 32])\n",
        "for images, labels in training_loader[0]:\n",
        "  print(images.size(), labels.size())\n",
        "  break\n",
        "for images2, labels2 in training_loader[1]:\n",
        "  break\n",
        "  torch.cat((images, images2), 0).size()\n",
        "\n",
        "\n",
        "\n"
      ],
      "execution_count": 0,
      "outputs": [
        {
          "output_type": "stream",
          "text": [
            "torch.Size([100, 3, 32, 32]) torch.Size([100])\n"
          ],
          "name": "stdout"
        },
        {
          "output_type": "execute_result",
          "data": {
            "text/plain": [
              "torch.Size([200, 3, 32, 32])"
            ]
          },
          "metadata": {
            "tags": []
          },
          "execution_count": 65
        }
      ]
    },
    {
      "cell_type": "code",
      "metadata": {
        "colab_type": "code",
        "id": "ELDFsBKeHqJy",
        "colab": {}
      },
      "source": [
        "class LeNet(nn.Module):\n",
        "    def __init__(self):\n",
        "      super().__init__()\n",
        "      self.conv1 = nn.Conv2d(3, 16, 3, 1, padding=1)\n",
        "      self.conv2 = nn.Conv2d(16, 32, 3, 1, padding=1)\n",
        "      self.conv3 = nn.Conv2d(32, 64, 3, 1, padding=1)\n",
        "      self.fc1 = nn.Linear(4*4*64, 500)\n",
        "      self.dropout1 = nn.Dropout(0.5)\n",
        "      self.fc2 = nn.Linear(500, 10)\n",
        "    def forward(self, x):\n",
        "      x = F.relu(self.conv1(x))\n",
        "      x = F.max_pool2d(x, 2, 2)\n",
        "      x = F.relu(self.conv2(x))\n",
        "      x = F.max_pool2d(x, 2, 2)\n",
        "      x = F.relu(self.conv3(x))\n",
        "      x = F.max_pool2d(x, 2, 2)\n",
        "      x = x.view(-1, 4*4*64)\n",
        "      x = F.relu(self.fc1(x))\n",
        "      x = self.dropout1(x)\n",
        "      x = self.fc2(x)\n",
        "      return x"
      ],
      "execution_count": 0,
      "outputs": []
    },
    {
      "cell_type": "code",
      "metadata": {
        "colab_type": "code",
        "id": "w6wxPBg_Od3t",
        "colab": {}
      },
      "source": [
        "class Tester():\n",
        "  def __init__(self, training_loader, validation_loader, num_workers):\n",
        "    self.num_workers = num_workers\n",
        "    self.training_loader = training_loader\n",
        "    self.validation_loader = validation_loader\n",
        "    self.running_loss_history = []\n",
        "    self.running_corrects_history = []\n",
        "    self.val_running_loss_history = []\n",
        "    self.val_running_corrects_history = []\n",
        "\n",
        "  def setUpExperiment(self, model, criterion, max_num_rounds = 2000, num_local_steps = 1):\n",
        "    self.max_num_rounds = max_num_rounds\n",
        "    self.num_local_steps = num_local_steps\n",
        "    \n",
        "    \n",
        "    self.criterion = criterion\n",
        "    self.model = model\n",
        "    self.worker_models = []\n",
        "    for i in range(0, self.num_workers):\n",
        "      self.worker_models.append(copy.deepcopy(self.model).to(device))\n",
        "\n",
        "    self.step_size = 0.001 / math.sqrt(self.num_local_steps)\n",
        "    self.optimizer = torch.optim.Adam(self.model.parameters(), lr = self.step_size)\n",
        "    \n",
        "    self.delta = []\n",
        "    self.sum_error = []\n",
        "    self.avg_error = []\n",
        "    param_list = list(self.model.parameters())\n",
        "    for i in range(0, len(param_list)):\n",
        "        self.delta.append(param_list[i]*0)\n",
        "        self.sum_error.append(param_list[i]*0)\n",
        "        self.avg_error.append(param_list[i]*0)\n",
        "\n",
        "    self.num_rounds = 0\n",
        "    \n",
        "    while self.num_rounds <= self.max_num_rounds:\n",
        "      self.runRound()\n",
        "      self.num_rounds += 1\n",
        "\n",
        "  def runLocalStepsInWorker(self, worker, central_gradient):\n",
        "    worker_model = self.worker_models[worker]\n",
        "    worker_optimizer = torch.optim.Adam(worker_model.parameters(), lr = self.step_size)\n",
        "    #create list to hold the sum of the gradients for this worker\n",
        "    sum_gradients = []\n",
        "    for i, param in enumerate(worker_model.parameters()):\n",
        "      sum_gradients.append(param * 0)\n",
        "    num_of_gradients_computed = 0\n",
        "    for inputs, labels in self.training_loader[worker]:\n",
        "      inputs = inputs.to(device)\n",
        "      labels = labels.to(device)\n",
        "      outputs = self.model(inputs)\n",
        "      loss = self.criterion(outputs, labels)\n",
        "\n",
        "      self.optimizer.zero_grad()\n",
        "      loss.backward()    \n",
        "\n",
        "      for i, param in enumerate(self.model.parameters()):\n",
        "        sum_gradients[i] += param.grad\n",
        "        #param.grad = central_gradient[i].clone()\n",
        "      \n",
        "      \n",
        "      self.optimizer.step()\n",
        "      num_of_gradients_computed +=1\n",
        "      if num_of_gradients_computed == self.num_local_steps:\n",
        "        break\n",
        "\n",
        "    return sum_gradients\n",
        "  \n",
        "  def avg_worker_gradients(self, central_gradient):\n",
        "    avg_gradient = []\n",
        "    for i, param in enumerate(self.model.parameters()):\n",
        "      avg_gradient.append(param * 0)\n",
        "    for worker in range(0, self.num_workers):\n",
        "      sum = self.runLocalStepsInWorker(worker, central_gradient)\n",
        "      for i, param in enumerate(self.model.parameters()):\n",
        "        avg_gradient[i] += sum[i]\n",
        "    #average gradients\n",
        "    for i in range(0, len(avg_gradient)):\n",
        "      avg_gradient[i] = avg_gradient[i] / self.num_workers\n",
        "    return avg_gradient\n",
        "\n",
        "  def runRound(self):\n",
        "    self.copyParameters()\n",
        "    #compute the avg of the sum of the gradients in the workers ater one epoch\n",
        "    avg_gradient = self.avg_worker_gradients(self.delta)\n",
        "\n",
        "    for i, param in enumerate(self.model.parameters()):\n",
        "      self.sum_error[i] = avg_gradient[i] - self.num_local_steps * self.delta[i]\n",
        "      self.avg_error[i] = self.sum_error[i]/self.num_local_steps\n",
        "      # we add the avg error twice, once to predict new direction, and once to compensate for the error\n",
        "      self.delta[i] = self.delta[i] + 2*self.avg_error[i]\n",
        "      \n",
        "    for j in range(0, num_local_steps):\n",
        "      for i, param in enumerate(self.model.parameters()):\n",
        "        param.grad = avg_gradient[i].clone()#self.delta[i].clone()\n",
        "      #self.optimizer.step()\n",
        "\n",
        "    if self.num_rounds % 500 == 0:\n",
        "      self.updateData()\n",
        "    \n",
        "      \n",
        "  def copyParameters(self):\n",
        "    parameter_list = list(self.model.parameters())\n",
        "    for worker in range(0, self.num_workers):\n",
        "      for i, param in enumerate(self.worker_models[worker].parameters()):\n",
        "         param = parameter_list[i].clone()\n",
        "    for i in range(0, self.num_workers):\n",
        "      self.worker_models.append(copy.deepcopy(self.model).to(device))\n",
        "      \n",
        "  def updateData(self):\n",
        "    self.running_loss = 0.0\n",
        "    self.running_corrects = 0.0\n",
        "    self.val_running_loss = 0.0\n",
        "    self.val_running_corrects = 0.0\n",
        "    with torch.no_grad():\n",
        "      for val_inputs, val_labels in self.validation_loader:\n",
        "        val_inputs = val_inputs.to(device)\n",
        "        val_labels = val_labels.to(device)\n",
        "        val_outputs = self.model(val_inputs)\n",
        "        val_loss = self.criterion(val_outputs, val_labels)\n",
        "\n",
        "        _, val_preds = torch.max(val_outputs, 1)\n",
        "        self.val_running_loss += val_loss.item()\n",
        "        self.val_running_corrects += torch.sum(val_preds == val_labels.data)\n",
        "\n",
        "    epoch_loss = self.running_loss/len(self.training_loader)\n",
        "    epoch_acc = float(self.running_corrects)/ len(self.training_loader)\n",
        "    self.running_loss_history.append(epoch_loss)\n",
        "    self.running_corrects_history.append(epoch_acc)\n",
        "\n",
        "    val_epoch_loss = self.val_running_loss/len(self.validation_loader)\n",
        "    val_epoch_acc = self.val_running_corrects.float()/ len(self.validation_loader)\n",
        "    self.val_running_loss_history.append(val_epoch_loss)\n",
        "    self.val_running_corrects_history.append(val_epoch_acc)\n",
        "    print('num_local_steps : ', self.num_local_steps, ', rounds communication : ', self.num_rounds)\n",
        "    #print('training loss: {:.4f}, acc {:.4f} '.format(epoch_loss, epoch_acc.item()))\n",
        "    print('validation loss: {:.4f}, validation acc {:.4f} '.format(val_epoch_loss, val_epoch_acc.item()))\n",
        "    self.val_running_loss = 0.0\n",
        "    self.val_running_corrects = 0.0"
      ],
      "execution_count": 0,
      "outputs": []
    },
    {
      "cell_type": "code",
      "metadata": {
        "colab_type": "code",
        "id": "zsd3HPylP9UE",
        "colab": {}
      },
      "source": [
        "#Local steps before syncrhonization\n",
        "criterion = nn.CrossEntropyLoss()\n",
        "tester = Tester(training_loader, validation_loader, num_workers)\n",
        "model = LeNet().to(device)\n",
        "num_local_steps = 1 #math.ceil(len(t_dataset_per_worker[0])/ worker_batch_size)\n",
        "        "
      ],
      "execution_count": 0,
      "outputs": []
    },
    {
      "cell_type": "code",
      "metadata": {
        "id": "rgXA9UnMfAbO",
        "colab_type": "code",
        "outputId": "100b1b7c-aba1-402b-9d75-7c80952e79b6",
        "colab": {
          "base_uri": "https://localhost:8080/",
          "height": 220
        }
      },
      "source": [
        "print(\"num_local_steps \", num_local_steps)\n",
        "tester.setUpExperiment(model, criterion, 500, num_local_steps)"
      ],
      "execution_count": 0,
      "outputs": [
        {
          "output_type": "stream",
          "text": [
            "num_local_steps  1\n",
            "num_local_steps :  1 , rounds communication :  0\n",
            "validation loss: 2.3033, validation acc 11.6300 \n",
            "num_local_steps :  1 , rounds communication :  500\n",
            "validation loss: 1.3977, validation acc 48.8200 \n",
            "num_local_steps :  1 , rounds communication :  1000\n",
            "validation loss: 1.2509, validation acc 55.2000 \n",
            "num_local_steps :  1 , rounds communication :  1500\n",
            "validation loss: 1.1564, validation acc 57.6800 \n",
            "num_local_steps :  1 , rounds communication :  2000\n",
            "validation loss: 1.1133, validation acc 61.2000 \n"
          ],
          "name": "stdout"
        }
      ]
    },
    {
      "cell_type": "code",
      "metadata": {
        "colab_type": "code",
        "id": "R1A-fOideMnx",
        "colab": {}
      },
      "source": [
        "#plt.plot(running_loss_history, label='training loss, k = '+str(num_local_steps))\n",
        "plt.plot(tester.val_running_loss_history, label='validation loss, k = '+str(num_local_steps))\n",
        "    \n",
        "plt.legend()"
      ],
      "execution_count": 0,
      "outputs": []
    },
    {
      "cell_type": "code",
      "metadata": {
        "id": "gaLOO8WR7tpB",
        "colab_type": "code",
        "colab": {}
      },
      "source": [
        "\n",
        "#plt.plot(running_corrects_history, label='training accuracy, k = '+str(num_local_steps))\n",
        "plt.plot(tester.val_running_corrects_history, label='validation accuracy, k = '+str(num_local_steps))\n",
        "plt.legend()"
      ],
      "execution_count": 0,
      "outputs": []
    },
    {
      "cell_type": "code",
      "metadata": {
        "id": "CkyBqiL-QPMc",
        "colab_type": "code",
        "colab": {}
      },
      "source": [
        ""
      ],
      "execution_count": 0,
      "outputs": []
    }
  ]
}